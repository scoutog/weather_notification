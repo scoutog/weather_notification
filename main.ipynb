{
 "cells": [
  {
   "cell_type": "code",
   "execution_count": null,
   "id": "5d2087ef",
   "metadata": {},
   "outputs": [],
   "source": [
    "import pandas as pd\n",
    "import numpy as np\n",
    "import requests"
   ]
  },
  {
   "cell_type": "code",
   "execution_count": null,
   "id": "ec61687e",
   "metadata": {},
   "outputs": [],
   "source": [
    "def current_weather():\n",
    "    # importing library\n",
    "    import requests\n",
    "    from bs4 import BeautifulSoup\n",
    "\n",
    "    # enter city name\n",
    "    city = \"Beaverton\"\n",
    "\n",
    "    # creating url and requests instance\n",
    "    url = \"https://www.google.com/search?q=\"+\"weather\"+city\n",
    "    html = requests.get(url).content\n",
    "\n",
    "    # getting raw data\n",
    "    soup = BeautifulSoup(html, 'html.parser')\n",
    "    temp = soup.find('div', attrs={'class': 'BNeawe iBp4i AP7Wnd'}).text\n",
    "    str = soup.find('div', attrs={'class': 'BNeawe tAd8D AP7Wnd'}).text\n",
    "\n",
    "    # formatting data\n",
    "    data = str.split('\\n')\n",
    "    time = data[0]\n",
    "    sky = data[1]\n",
    "\n",
    "    # getting all div tag\n",
    "    listdiv = soup.findAll('div', attrs={'class': 'BNeawe s3v9rd AP7Wnd'})\n",
    "    strd = listdiv[5].text\n",
    "\n",
    "    # getting other required data\n",
    "    pos = strd.find('Wind')\n",
    "    other_data = strd[pos:]\n",
    "\n",
    "    # printing all data\n",
    "    print(\"Temperature is\", temp)\n",
    "    print(\"Time: \", time)\n",
    "    print(\"Sky Description: \", sky)\n",
    "    print(other_data)"
   ]
  },
  {
   "cell_type": "code",
   "execution_count": null,
   "id": "de4451db",
   "metadata": {},
   "outputs": [],
   "source": [
    "def get_forecast():\n",
    "    # Python code to display schematic weather details\n",
    "    import requests\n",
    "\n",
    "    #Sending requests to get the IP Location Information\n",
    "    res = requests.get('https://ipinfo.io/')\n",
    "\n",
    "    # Receiving the response in JSON format\n",
    "    data = res.json()\n",
    "\n",
    "    # Extracting the Location of the City from the response\n",
    "    citydata = data['city']\n",
    "\n",
    "#     # Prints the Current Location\n",
    "#     print(citydata)\n",
    "\n",
    "    # Passing the City name to the url\n",
    "    url = 'https://wttr.in/{}'.format(citydata)\n",
    "\n",
    "    # Getting the Weather Data of the City\n",
    "    res = requests.get(url)\n",
    "\n",
    "    # Printing the results!\n",
    "    print(res.text)"
   ]
  },
  {
   "cell_type": "code",
   "execution_count": null,
   "id": "ea0af54a",
   "metadata": {},
   "outputs": [],
   "source": [
    "# current_weather()"
   ]
  },
  {
   "cell_type": "code",
   "execution_count": null,
   "id": "201b72a3",
   "metadata": {},
   "outputs": [],
   "source": [
    "# get_forecast()"
   ]
  },
  {
   "cell_type": "code",
   "execution_count": null,
   "id": "b8e1134b",
   "metadata": {},
   "outputs": [],
   "source": []
  }
 ],
 "metadata": {
  "kernelspec": {
   "display_name": "Python 3 (ipykernel)",
   "language": "python",
   "name": "python3"
  },
  "language_info": {
   "codemirror_mode": {
    "name": "ipython",
    "version": 3
   },
   "file_extension": ".py",
   "mimetype": "text/x-python",
   "name": "python",
   "nbconvert_exporter": "python",
   "pygments_lexer": "ipython3",
   "version": "3.7.11"
  }
 },
 "nbformat": 4,
 "nbformat_minor": 5
}
